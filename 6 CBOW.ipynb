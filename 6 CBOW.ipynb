{
 "cells": [
  {
   "cell_type": "code",
   "execution_count": 29,
   "id": "7b961ae0-d30d-49d7-935f-3440c26b208a",
   "metadata": {},
   "outputs": [],
   "source": [
    "import numpy as np\n",
    "import tensorflow as tf\n",
    "from tensorflow.keras.models import Sequential\n",
    "from tensorflow.keras.layers import Embedding, Lambda, Dense\n",
    "from tensorflow.keras.preprocessing.text import Tokenizer\n",
    "from tensorflow.keras.preprocessing.sequence import skipgrams\n",
    "from tensorflow.keras.utils import to_categorical"
   ]
  },
  {
   "cell_type": "code",
   "execution_count": 32,
   "id": "22968070-99b5-4466-940a-3f55d8d17af6",
   "metadata": {},
   "outputs": [],
   "source": [
    "# Sample sentence\n",
    "text = \"the quick brown fox jumps over the lazy dog\"\n",
    "\n",
    "# Tokenize the words\n",
    "tokenizer = Tokenizer()\n",
    "tokenizer.fit_on_texts([text])\n",
    "word2id = tokenizer.word_index\n",
    "id2word = {v: k for k, v in word2id.items()}\n",
    "vocab_size = int(len(word2id) + 1)  # Ensure vocab_size is an integer\n",
    "\n",
    "# Convert sentence to word IDs\n",
    "word_ids = tokenizer.texts_to_sequences([text])[0]\n",
    "\n",
    "# Generate skip-gram pairs with an explicit seed as integer\n",
    "pairs, labels = skipgrams(\n",
    "    word_ids, vocabulary_size=vocab_size, window_size=2, seed=42\n",
    ")\n"
   ]
  },
  {
   "cell_type": "code",
   "execution_count": 33,
   "id": "265ccbbf-36a7-4e9b-b76d-c64fb29dbdc3",
   "metadata": {},
   "outputs": [],
   "source": [
    "model.compile(optimizer='adam', loss='categorical_crossentropy', metrics=['accuracy'])"
   ]
  },
  {
   "cell_type": "code",
   "execution_count": 34,
   "id": "0f1d6fdf-03bc-457f-8841-8cec92582a23",
   "metadata": {},
   "outputs": [],
   "source": [
    "contexts, targets = zip(*pairs)\n",
    "contexts = np.array(contexts)\n",
    "targets = np.array([to_categorical(label, num_classes=vocab_size) for label in labels])"
   ]
  },
  {
   "cell_type": "code",
   "execution_count": 37,
   "id": "d4b0d8a9-4bd7-4c56-95ab-0cfacc48112c",
   "metadata": {},
   "outputs": [],
   "source": [
    "contexts = np.array([[1], [2], [3], [4]], dtype=np.int32)  # Ensure contexts is a 2D array with int32 dtype\n",
    "targets = np.array([0, 1, 2, 3], dtype=np.int32)  # Convert targets to a NumPy array\n",
    "targets = to_categorical(targets, num_classes=vocab_size)"
   ]
  },
  {
   "cell_type": "code",
   "execution_count": 38,
   "id": "64ad8516-97af-449c-aeda-e1238a935556",
   "metadata": {},
   "outputs": [
    {
     "name": "stdout",
     "output_type": "stream",
     "text": [
      "Model training completed.\n"
     ]
    }
   ],
   "source": [
    "model.fit(contexts, targets, epochs=100, verbose=0)\n",
    "\n",
    "print(\"Model training completed.\")"
   ]
  },
  {
   "cell_type": "code",
   "execution_count": 39,
   "id": "e4578c61-5162-4771-b531-d27c19cf934a",
   "metadata": {},
   "outputs": [
    {
     "name": "stdout",
     "output_type": "stream",
     "text": [
      "Word: the, Embedding: [ 0.20394646 -0.21266896 -0.16828223  0.17534377  0.17705534  0.2289915\n",
      " -0.24497445  0.24921697]\n",
      "Word: quick, Embedding: [ 0.26601437  0.19286361  0.21377032  0.15914696 -0.25299984  0.21978736\n",
      " -0.23766914 -0.158184  ]\n",
      "Word: brown, Embedding: [-0.2367714   0.256813    0.1995362  -0.2514929   0.18180354  0.16863582\n",
      "  0.17282897 -0.21446063]\n",
      "Word: fox, Embedding: [-0.16644365  0.22715285  0.15610787 -0.23589973 -0.2444732   0.2318254\n",
      " -0.17709824 -0.1712086 ]\n",
      "Word: jumps, Embedding: [-0.04072695  0.04020896  0.01103354  0.00024498  0.0036257  -0.00427949\n",
      "  0.03522897 -0.04928116]\n",
      "Word: over, Embedding: [ 0.00482456  0.02831321 -0.02560025 -0.03238281 -0.0412845   0.02070269\n",
      " -0.02522116  0.01003258]\n",
      "Word: lazy, Embedding: [ 0.00852352 -0.03466218 -0.00381167  0.00346166 -0.03247733 -0.00446225\n",
      " -0.03210022  0.01421421]\n",
      "Word: dog, Embedding: [ 0.03518378  0.00050179 -0.02589412 -0.00566624 -0.04688196 -0.03225533\n",
      "  0.04781092 -0.02546456]\n"
     ]
    }
   ],
   "source": [
    "word_embeddings = model.layers[0].get_weights()[0]  # Get word embedding weights\n",
    "for word, idx in word2id.items():\n",
    "    print(f\"Word: {word}, Embedding: {word_embeddings[idx]}\")"
   ]
  },
  {
   "cell_type": "code",
   "execution_count": null,
   "id": "f5ca32cd-5eaf-47d3-a002-09c2963f3358",
   "metadata": {},
   "outputs": [],
   "source": []
  }
 ],
 "metadata": {
  "kernelspec": {
   "display_name": "Python 3 (ipykernel)",
   "language": "python",
   "name": "python3"
  },
  "language_info": {
   "codemirror_mode": {
    "name": "ipython",
    "version": 3
   },
   "file_extension": ".py",
   "mimetype": "text/x-python",
   "name": "python",
   "nbconvert_exporter": "python",
   "pygments_lexer": "ipython3",
   "version": "3.12.6"
  }
 },
 "nbformat": 4,
 "nbformat_minor": 5
}
