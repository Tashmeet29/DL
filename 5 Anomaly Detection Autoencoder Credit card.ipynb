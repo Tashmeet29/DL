{
 "cells": [
  {
   "cell_type": "code",
   "execution_count": 4,
   "id": "260d77b5-eb2c-455a-b2c8-9fea35d775f1",
   "metadata": {},
   "outputs": [
    {
     "name": "stdout",
     "output_type": "stream",
     "text": [
      "Sample dataset saved as 'sample_creditcard_data.xlsx'\n"
     ]
    }
   ],
   "source": [
    "# Generating a sample credit card dataset and saving to Excel\n",
    "import pandas as pd\n",
    "import numpy as np\n",
    "\n",
    "# Generate synthetic data with 20 features, 1000 normal and 50 anomalous samples\n",
    "np.random.seed(42)\n",
    "n_features = 20\n",
    "n_normal = 1000\n",
    "n_anomalous = 50\n",
    "\n",
    "# Normal transactions: Random values centered around 0 with small deviations\n",
    "normal_data = np.random.normal(loc=0, scale=1, size=(n_normal, n_features))\n",
    "\n",
    "# Anomalous transactions: Random values with larger deviations\n",
    "anomalous_data = np.random.normal(loc=0, scale=5, size=(n_anomalous, n_features))\n",
    "\n",
    "# Create DataFrame and label columns\n",
    "normal_df = pd.DataFrame(normal_data, columns=[f'feature_{i+1}' for i in range(n_features)])\n",
    "anomalous_df = pd.DataFrame(anomalous_data, columns=[f'feature_{i+1}' for i in range(n_features)])\n",
    "\n",
    "# Add 'Class' column (0 for normal, 1 for anomaly)\n",
    "normal_df['Class'] = 0\n",
    "anomalous_df['Class'] = 1\n",
    "\n",
    "# Concatenate the normal and anomalous data\n",
    "data = pd.concat([normal_df, anomalous_df], ignore_index=True)\n",
    "\n",
    "# Save the dataset to an Excel file\n",
    "data.to_excel('sample_creditcard_data.xlsx', index=False)\n",
    "print(\"Sample dataset saved as 'sample_creditcard_data.xlsx'\")\n"
   ]
  },
  {
   "cell_type": "code",
   "execution_count": 5,
   "id": "39609512-f2cf-46fe-8bea-af7083943360",
   "metadata": {},
   "outputs": [],
   "source": [
    "import numpy as np\n",
    "import pandas as pd\n",
    "import tensorflow as tf\n",
    "from tensorflow.keras.models import Model\n",
    "from tensorflow.keras.layers import Input, Dense\n",
    "from sklearn.model_selection import train_test_split\n",
    "from sklearn.preprocessing import StandardScaler\n",
    "import matplotlib.pyplot as plt"
   ]
  },
  {
   "cell_type": "code",
   "execution_count": 6,
   "id": "06d9b96f-fc3d-4918-93cc-19ca282a90b0",
   "metadata": {},
   "outputs": [],
   "source": [
    "data = pd.read_excel('sample_creditcard_data.xlsx')"
   ]
  },
  {
   "cell_type": "code",
   "execution_count": 9,
   "id": "503fa543-c30f-4367-9cba-b115729c3103",
   "metadata": {},
   "outputs": [],
   "source": [
    "X = data.drop(columns=['Class'])\n",
    "y = data['Class']"
   ]
  },
  {
   "cell_type": "code",
   "execution_count": 11,
   "id": "7de599b7-6d98-4f76-8e75-ebf7133746f1",
   "metadata": {},
   "outputs": [],
   "source": [
    "scaler = StandardScaler()\n",
    "X_scaled = scaler.fit_transform(X)"
   ]
  },
  {
   "cell_type": "code",
   "execution_count": 12,
   "id": "4de25a3a-dd19-41cb-a1ce-79350138dd18",
   "metadata": {},
   "outputs": [],
   "source": [
    "X_train, X_test, y_train, y_test = train_test_split(X_scaled, y, test_size=0.2, random_state=42)"
   ]
  },
  {
   "cell_type": "code",
   "execution_count": 13,
   "id": "b8320d2f-20f5-4c52-9840-47f794a5810a",
   "metadata": {},
   "outputs": [],
   "source": [
    "input_dim = X_train.shape[1]\n",
    "encoding_dim = 16"
   ]
  },
  {
   "cell_type": "code",
   "execution_count": 14,
   "id": "ba854adb-ef20-4703-9d01-7475f18db82f",
   "metadata": {},
   "outputs": [],
   "source": [
    "input_layer = Input(shape=(input_dim,))\n",
    "encoded = Dense(encoding_dim, activation='relu')(input_layer)\n",
    "encoded = Dense(8, activation='relu')(encoded)"
   ]
  },
  {
   "cell_type": "code",
   "execution_count": 15,
   "id": "18027bba-d16b-4267-b0c6-25575f6ba035",
   "metadata": {},
   "outputs": [],
   "source": [
    "decoded = Dense(encoding_dim, activation='relu')(encoded)\n",
    "decoded = Dense(input_dim, activation='sigmoid')(decoded)"
   ]
  },
  {
   "cell_type": "code",
   "execution_count": 16,
   "id": "607b9c54-261d-43f0-8e83-ceb358a78993",
   "metadata": {},
   "outputs": [],
   "source": [
    "autoencoder = Model(inputs=input_layer, outputs=decoded)"
   ]
  },
  {
   "cell_type": "code",
   "execution_count": 17,
   "id": "2bc893c0-3aaf-4a43-973b-5457ad2ed282",
   "metadata": {},
   "outputs": [],
   "source": [
    "autoencoder.compile(optimizer='adam', loss='mse', metrics=['accuracy'])"
   ]
  },
  {
   "cell_type": "code",
   "execution_count": 18,
   "id": "c4b344b8-8914-4dab-9aa9-5f0501cd3f32",
   "metadata": {},
   "outputs": [
    {
     "name": "stdout",
     "output_type": "stream",
     "text": [
      "Epoch 1/20\n",
      "\u001b[1m3/3\u001b[0m \u001b[32m━━━━━━━━━━━━━━━━━━━━\u001b[0m\u001b[37m\u001b[0m \u001b[1m2s\u001b[0m 115ms/step - accuracy: 0.0335 - loss: 0.6986 - val_accuracy: 0.0741 - val_loss: 0.7105\n",
      "Epoch 2/20\n",
      "\u001b[1m3/3\u001b[0m \u001b[32m━━━━━━━━━━━━━━━━━━━━\u001b[0m\u001b[37m\u001b[0m \u001b[1m0s\u001b[0m 17ms/step - accuracy: 0.0347 - loss: 0.6983 - val_accuracy: 0.0741 - val_loss: 0.7072\n",
      "Epoch 3/20\n",
      "\u001b[1m3/3\u001b[0m \u001b[32m━━━━━━━━━━━━━━━━━━━━\u001b[0m\u001b[37m\u001b[0m \u001b[1m0s\u001b[0m 29ms/step - accuracy: 0.0325 - loss: 0.6967 - val_accuracy: 0.0741 - val_loss: 0.7038\n",
      "Epoch 4/20\n",
      "\u001b[1m3/3\u001b[0m \u001b[32m━━━━━━━━━━━━━━━━━━━━\u001b[0m\u001b[37m\u001b[0m \u001b[1m0s\u001b[0m 18ms/step - accuracy: 0.0379 - loss: 0.6911 - val_accuracy: 0.0617 - val_loss: 0.7004\n",
      "Epoch 5/20\n",
      "\u001b[1m3/3\u001b[0m \u001b[32m━━━━━━━━━━━━━━━━━━━━\u001b[0m\u001b[37m\u001b[0m \u001b[1m0s\u001b[0m 20ms/step - accuracy: 0.0384 - loss: 0.6930 - val_accuracy: 0.0494 - val_loss: 0.6968\n",
      "Epoch 6/20\n",
      "\u001b[1m3/3\u001b[0m \u001b[32m━━━━━━━━━━━━━━━━━━━━\u001b[0m\u001b[37m\u001b[0m \u001b[1m0s\u001b[0m 17ms/step - accuracy: 0.0421 - loss: 0.6906 - val_accuracy: 0.0370 - val_loss: 0.6931\n",
      "Epoch 7/20\n",
      "\u001b[1m3/3\u001b[0m \u001b[32m━━━━━━━━━━━━━━━━━━━━\u001b[0m\u001b[37m\u001b[0m \u001b[1m0s\u001b[0m 18ms/step - accuracy: 0.0373 - loss: 0.6853 - val_accuracy: 0.0247 - val_loss: 0.6893\n",
      "Epoch 8/20\n",
      "\u001b[1m3/3\u001b[0m \u001b[32m━━━━━━━━━━━━━━━━━━━━\u001b[0m\u001b[37m\u001b[0m \u001b[1m0s\u001b[0m 20ms/step - accuracy: 0.0476 - loss: 0.6799 - val_accuracy: 0.0370 - val_loss: 0.6853\n",
      "Epoch 9/20\n",
      "\u001b[1m3/3\u001b[0m \u001b[32m━━━━━━━━━━━━━━━━━━━━\u001b[0m\u001b[37m\u001b[0m \u001b[1m0s\u001b[0m 17ms/step - accuracy: 0.0476 - loss: 0.6849 - val_accuracy: 0.0741 - val_loss: 0.6810\n",
      "Epoch 10/20\n",
      "\u001b[1m3/3\u001b[0m \u001b[32m━━━━━━━━━━━━━━━━━━━━\u001b[0m\u001b[37m\u001b[0m \u001b[1m0s\u001b[0m 20ms/step - accuracy: 0.0437 - loss: 0.6646 - val_accuracy: 0.0741 - val_loss: 0.6765\n",
      "Epoch 11/20\n",
      "\u001b[1m3/3\u001b[0m \u001b[32m━━━━━━━━━━━━━━━━━━━━\u001b[0m\u001b[37m\u001b[0m \u001b[1m0s\u001b[0m 19ms/step - accuracy: 0.0401 - loss: 0.6645 - val_accuracy: 0.0741 - val_loss: 0.6717\n",
      "Epoch 12/20\n",
      "\u001b[1m3/3\u001b[0m \u001b[32m━━━━━━━━━━━━━━━━━━━━\u001b[0m\u001b[37m\u001b[0m \u001b[1m0s\u001b[0m 18ms/step - accuracy: 0.0367 - loss: 0.6643 - val_accuracy: 0.0741 - val_loss: 0.6665\n",
      "Epoch 13/20\n",
      "\u001b[1m3/3\u001b[0m \u001b[32m━━━━━━━━━━━━━━━━━━━━\u001b[0m\u001b[37m\u001b[0m \u001b[1m0s\u001b[0m 15ms/step - accuracy: 0.0421 - loss: 0.6561 - val_accuracy: 0.0741 - val_loss: 0.6611\n",
      "Epoch 14/20\n",
      "\u001b[1m3/3\u001b[0m \u001b[32m━━━━━━━━━━━━━━━━━━━━\u001b[0m\u001b[37m\u001b[0m \u001b[1m0s\u001b[0m 18ms/step - accuracy: 0.0390 - loss: 0.6516 - val_accuracy: 0.0741 - val_loss: 0.6554\n",
      "Epoch 15/20\n",
      "\u001b[1m3/3\u001b[0m \u001b[32m━━━━━━━━━━━━━━━━━━━━\u001b[0m\u001b[37m\u001b[0m \u001b[1m0s\u001b[0m 18ms/step - accuracy: 0.0486 - loss: 0.6390 - val_accuracy: 0.0741 - val_loss: 0.6493\n",
      "Epoch 16/20\n",
      "\u001b[1m3/3\u001b[0m \u001b[32m━━━━━━━━━━━━━━━━━━━━\u001b[0m\u001b[37m\u001b[0m \u001b[1m0s\u001b[0m 19ms/step - accuracy: 0.0420 - loss: 0.6385 - val_accuracy: 0.0741 - val_loss: 0.6430\n",
      "Epoch 17/20\n",
      "\u001b[1m3/3\u001b[0m \u001b[32m━━━━━━━━━━━━━━━━━━━━\u001b[0m\u001b[37m\u001b[0m \u001b[1m0s\u001b[0m 19ms/step - accuracy: 0.0401 - loss: 0.6365 - val_accuracy: 0.0741 - val_loss: 0.6362\n",
      "Epoch 18/20\n",
      "\u001b[1m3/3\u001b[0m \u001b[32m━━━━━━━━━━━━━━━━━━━━\u001b[0m\u001b[37m\u001b[0m \u001b[1m0s\u001b[0m 19ms/step - accuracy: 0.0450 - loss: 0.6254 - val_accuracy: 0.0741 - val_loss: 0.6291\n",
      "Epoch 19/20\n",
      "\u001b[1m3/3\u001b[0m \u001b[32m━━━━━━━━━━━━━━━━━━━━\u001b[0m\u001b[37m\u001b[0m \u001b[1m0s\u001b[0m 20ms/step - accuracy: 0.0348 - loss: 0.6186 - val_accuracy: 0.0741 - val_loss: 0.6217\n",
      "Epoch 20/20\n",
      "\u001b[1m3/3\u001b[0m \u001b[32m━━━━━━━━━━━━━━━━━━━━\u001b[0m\u001b[37m\u001b[0m \u001b[1m0s\u001b[0m 17ms/step - accuracy: 0.0358 - loss: 0.6150 - val_accuracy: 0.0741 - val_loss: 0.6141\n"
     ]
    }
   ],
   "source": [
    "X_train_normal = X_train[y_train == 0]\n",
    "history = autoencoder.fit(X_train_normal, X_train_normal, epochs=20, batch_size=256, validation_split=0.1, shuffle=True)"
   ]
  },
  {
   "cell_type": "code",
   "execution_count": 19,
   "id": "c8bc7c68-35e0-429f-a607-661f0743bd33",
   "metadata": {},
   "outputs": [
    {
     "name": "stdout",
     "output_type": "stream",
     "text": [
      "\u001b[1m7/7\u001b[0m \u001b[32m━━━━━━━━━━━━━━━━━━━━\u001b[0m\u001b[37m\u001b[0m \u001b[1m0s\u001b[0m 11ms/step\n"
     ]
    }
   ],
   "source": [
    "reconstructed_X = autoencoder.predict(X_test)\n",
    "mse = np.mean(np.power(X_test - reconstructed_X, 2), axis=1)"
   ]
  },
  {
   "cell_type": "code",
   "execution_count": 20,
   "id": "110553b5-ab66-4079-a7e7-52e299f2a33e",
   "metadata": {},
   "outputs": [],
   "source": [
    "threshold = np.percentile(mse, 95)"
   ]
  },
  {
   "cell_type": "code",
   "execution_count": 21,
   "id": "c630ee50-a080-4bc3-8c78-8f74a0f80d13",
   "metadata": {},
   "outputs": [],
   "source": [
    "anomalies = mse > threshold"
   ]
  },
  {
   "cell_type": "code",
   "execution_count": 22,
   "id": "9687fa83-5a2c-4b20-a96d-2d5426fb4355",
   "metadata": {},
   "outputs": [
    {
     "data": {
      "image/png": "[encoded data removed]",
      "text/plain": [
       "<Figure size 640x480 with 1 Axes>"
      ]
     },
     "metadata": {},
     "output_type": "display_data"
    }
   ],
   "source": [
    "plt.plot(history.history['loss'], label='Training Loss')\n",
    "plt.plot(history.history['val_loss'], label='Validation Loss')\n",
    "plt.xlabel('Epochs')\n",
    "plt.ylabel('Loss')\n",
    "plt.legend()\n",
    "plt.title('Training and Validation Loss')\n",
    "plt.show()"
   ]
  },
  {
   "cell_type": "code",
   "execution_count": 23,
   "id": "0e4461a1-7ea0-4526-b018-f8b348fa78dc",
   "metadata": {},
   "outputs": [
    {
     "name": "stdout",
     "output_type": "stream",
     "text": [
      "Reconstruction error threshold: 8.553552055562475\n",
      "Examples of Anomalies: \n",
      "(array([ 15,  48,  78, 106, 119, 132, 172, 177, 183, 193, 201], dtype=int64),)\n"
     ]
    }
   ],
   "source": [
    "print(f\"Reconstruction error threshold: {threshold}\")\n",
    "print(f\"Examples of Anomalies: \\n{np.where(anomalies == True)}\")"
   ]
  },
  {
   "cell_type": "code",
   "execution_count": null,
   "id": "db5b36c1-569e-4bd5-9ae6-a5f2d7a79cc3",
   "metadata": {},
   "outputs": [],
   "source": []
  }
 ],
 "metadata": {
  "kernelspec": {
   "display_name": "Python 3 (ipykernel)",
   "language": "python",
   "name": "python3"
  },
  "language_info": {
   "codemirror_mode": {
    "name": "ipython",
    "version": 3
   },
   "file_extension": ".py",
   "mimetype": "text/x-python",
   "name": "python",
   "nbconvert_exporter": "python",
   "pygments_lexer": "ipython3",
   "version": "3.12.6"
  }
 },
 "nbformat": 4,
 "nbformat_minor": 5
}
