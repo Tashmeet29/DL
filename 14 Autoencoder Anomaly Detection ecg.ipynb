{
 "cells": [
  {
   "cell_type": "code",
   "execution_count": 6,
   "id": "5a4e7dbf-71c8-4fcb-bef6-f766eec88db8",
   "metadata": {},
   "outputs": [],
   "source": [
    "import tensorflow as tf\n",
    "from tensorflow.keras.models import Model\n",
    "from tensorflow.keras.layers import Input, Dense\n",
    "import pandas as pd\n",
    "import numpy as np\n",
    "import matplotlib.pyplot as plt"
   ]
  },
  {
   "cell_type": "code",
   "execution_count": 7,
   "id": "18207ef8-dce4-4ae2-898d-2b93210dc3ba",
   "metadata": {},
   "outputs": [],
   "source": [
    "data = pd.read_csv('ecg.csv')\n",
    "ecg_data = data.values"
   ]
  },
  {
   "cell_type": "code",
   "execution_count": 8,
   "id": "f05ec82f-a377-475e-9c3d-78b0cbd8cfef",
   "metadata": {},
   "outputs": [],
   "source": [
    "ecg_data = ecg_data / np.max(ecg_data)"
   ]
  },
  {
   "cell_type": "code",
   "execution_count": 9,
   "id": "d7641dae-3f5e-4eb3-9b74-199a1f60357a",
   "metadata": {},
   "outputs": [],
   "source": [
    "train_data = ecg_data[:int(0.8 * len(ecg_data))]\n",
    "test_data = ecg_data[int(0.8 * len(ecg_data)):]"
   ]
  },
  {
   "cell_type": "code",
   "execution_count": 10,
   "id": "b3f09001-92aa-4dea-bae7-46811cfbc716",
   "metadata": {},
   "outputs": [],
   "source": [
    "input_dim = train_data.shape[1]  # Number of features\n",
    "encoding_dim = 32 "
   ]
  },
  {
   "cell_type": "code",
   "execution_count": 11,
   "id": "e74ed62a-2dbf-4a56-84ea-cf107cfcef00",
   "metadata": {},
   "outputs": [],
   "source": [
    "input_layer = Input(shape=(input_dim,))\n",
    "encoder = Dense(encoding_dim, activation=\"relu\")(input_layer)"
   ]
  },
  {
   "cell_type": "code",
   "execution_count": 12,
   "id": "c6b5f2c6-7f13-4ba2-bbd5-151a85ad92f0",
   "metadata": {},
   "outputs": [],
   "source": [
    "decoder = Dense(input_dim, activation=\"sigmoid\")(encoder)\n",
    "autoencoder = Model(inputs=input_layer, outputs=decoder)"
   ]
  },
  {
   "cell_type": "code",
   "execution_count": 13,
   "id": "8ebd4527-d0ef-4ad4-8838-8516e7047a42",
   "metadata": {},
   "outputs": [
    {
     "name": "stdout",
     "output_type": "stream",
     "text": [
      "Epoch 1/20\n",
      "\u001b[1m113/113\u001b[0m \u001b[32m━━━━━━━━━━━━━━━━━━━━\u001b[0m\u001b[37m\u001b[0m \u001b[1m3s\u001b[0m 7ms/step - loss: 0.1957 - mae: 0.4041 - val_loss: 0.0421 - val_mae: 0.1451\n",
      "Epoch 2/20\n",
      "\u001b[1m113/113\u001b[0m \u001b[32m━━━━━━━━━━━━━━━━━━━━\u001b[0m\u001b[37m\u001b[0m \u001b[1m0s\u001b[0m 3ms/step - loss: 0.0215 - mae: 0.0943 - val_loss: 0.0277 - val_mae: 0.0992\n",
      "Epoch 3/20\n",
      "\u001b[1m113/113\u001b[0m \u001b[32m━━━━━━━━━━━━━━━━━━━━\u001b[0m\u001b[37m\u001b[0m \u001b[1m0s\u001b[0m 3ms/step - loss: 0.0175 - mae: 0.0806 - val_loss: 0.0250 - val_mae: 0.0944\n",
      "Epoch 4/20\n",
      "\u001b[1m113/113\u001b[0m \u001b[32m━━━━━━━━━━━━━━━━━━━━\u001b[0m\u001b[37m\u001b[0m \u001b[1m0s\u001b[0m 3ms/step - loss: 0.0160 - mae: 0.0748 - val_loss: 0.0230 - val_mae: 0.0906\n",
      "Epoch 5/20\n",
      "\u001b[1m113/113\u001b[0m \u001b[32m━━━━━━━━━━━━━━━━━━━━\u001b[0m\u001b[37m\u001b[0m \u001b[1m0s\u001b[0m 3ms/step - loss: 0.0150 - mae: 0.0710 - val_loss: 0.0214 - val_mae: 0.0874\n",
      "Epoch 6/20\n",
      "\u001b[1m113/113\u001b[0m \u001b[32m━━━━━━━━━━━━━━━━━━━━\u001b[0m\u001b[37m\u001b[0m \u001b[1m0s\u001b[0m 4ms/step - loss: 0.0143 - mae: 0.0681 - val_loss: 0.0202 - val_mae: 0.0846\n",
      "Epoch 7/20\n",
      "\u001b[1m113/113\u001b[0m \u001b[32m━━━━━━━━━━━━━━━━━━━━\u001b[0m\u001b[37m\u001b[0m \u001b[1m0s\u001b[0m 3ms/step - loss: 0.0140 - mae: 0.0664 - val_loss: 0.0194 - val_mae: 0.0822\n",
      "Epoch 8/20\n",
      "\u001b[1m113/113\u001b[0m \u001b[32m━━━━━━━━━━━━━━━━━━━━\u001b[0m\u001b[37m\u001b[0m \u001b[1m1s\u001b[0m 3ms/step - loss: 0.0140 - mae: 0.0659 - val_loss: 0.0188 - val_mae: 0.0800\n",
      "Epoch 9/20\n",
      "\u001b[1m113/113\u001b[0m \u001b[32m━━━━━━━━━━━━━━━━━━━━\u001b[0m\u001b[37m\u001b[0m \u001b[1m0s\u001b[0m 4ms/step - loss: 0.0137 - mae: 0.0647 - val_loss: 0.0183 - val_mae: 0.0782\n",
      "Epoch 10/20\n",
      "\u001b[1m113/113\u001b[0m \u001b[32m━━━━━━━━━━━━━━━━━━━━\u001b[0m\u001b[37m\u001b[0m \u001b[1m0s\u001b[0m 4ms/step - loss: 0.0137 - mae: 0.0644 - val_loss: 0.0179 - val_mae: 0.0766\n",
      "Epoch 11/20\n",
      "\u001b[1m113/113\u001b[0m \u001b[32m━━━━━━━━━━━━━━━━━━━━\u001b[0m\u001b[37m\u001b[0m \u001b[1m0s\u001b[0m 3ms/step - loss: 0.0134 - mae: 0.0633 - val_loss: 0.0176 - val_mae: 0.0752\n",
      "Epoch 12/20\n",
      "\u001b[1m113/113\u001b[0m \u001b[32m━━━━━━━━━━━━━━━━━━━━\u001b[0m\u001b[37m\u001b[0m \u001b[1m0s\u001b[0m 4ms/step - loss: 0.0134 - mae: 0.0631 - val_loss: 0.0173 - val_mae: 0.0739\n",
      "Epoch 13/20\n",
      "\u001b[1m113/113\u001b[0m \u001b[32m━━━━━━━━━━━━━━━━━━━━\u001b[0m\u001b[37m\u001b[0m \u001b[1m0s\u001b[0m 3ms/step - loss: 0.0133 - mae: 0.0625 - val_loss: 0.0171 - val_mae: 0.0728\n",
      "Epoch 14/20\n",
      "\u001b[1m113/113\u001b[0m \u001b[32m━━━━━━━━━━━━━━━━━━━━\u001b[0m\u001b[37m\u001b[0m \u001b[1m0s\u001b[0m 3ms/step - loss: 0.0132 - mae: 0.0618 - val_loss: 0.0169 - val_mae: 0.0718\n",
      "Epoch 15/20\n",
      "\u001b[1m113/113\u001b[0m \u001b[32m━━━━━━━━━━━━━━━━━━━━\u001b[0m\u001b[37m\u001b[0m \u001b[1m0s\u001b[0m 3ms/step - loss: 0.0132 - mae: 0.0615 - val_loss: 0.0167 - val_mae: 0.0708\n",
      "Epoch 16/20\n",
      "\u001b[1m113/113\u001b[0m \u001b[32m━━━━━━━━━━━━━━━━━━━━\u001b[0m\u001b[37m\u001b[0m \u001b[1m0s\u001b[0m 3ms/step - loss: 0.0132 - mae: 0.0610 - val_loss: 0.0166 - val_mae: 0.0701\n",
      "Epoch 17/20\n",
      "\u001b[1m113/113\u001b[0m \u001b[32m━━━━━━━━━━━━━━━━━━━━\u001b[0m\u001b[37m\u001b[0m \u001b[1m0s\u001b[0m 3ms/step - loss: 0.0130 - mae: 0.0602 - val_loss: 0.0164 - val_mae: 0.0694\n",
      "Epoch 18/20\n",
      "\u001b[1m113/113\u001b[0m \u001b[32m━━━━━━━━━━━━━━━━━━━━\u001b[0m\u001b[37m\u001b[0m \u001b[1m0s\u001b[0m 3ms/step - loss: 0.0130 - mae: 0.0600 - val_loss: 0.0163 - val_mae: 0.0688\n",
      "Epoch 19/20\n",
      "\u001b[1m113/113\u001b[0m \u001b[32m━━━━━━━━━━━━━━━━━━━━\u001b[0m\u001b[37m\u001b[0m \u001b[1m0s\u001b[0m 4ms/step - loss: 0.0130 - mae: 0.0597 - val_loss: 0.0162 - val_mae: 0.0683\n",
      "Epoch 20/20\n",
      "\u001b[1m113/113\u001b[0m \u001b[32m━━━━━━━━━━━━━━━━━━━━\u001b[0m\u001b[37m\u001b[0m \u001b[1m0s\u001b[0m 3ms/step - loss: 0.0129 - mae: 0.0593 - val_loss: 0.0161 - val_mae: 0.0677\n"
     ]
    }
   ],
   "source": [
    "autoencoder.compile(optimizer='adam', loss='mse', metrics=['mae'])\n",
    "history = autoencoder.fit(train_data, train_data, epochs=20, batch_size=32, validation_split=0.1)"
   ]
  },
  {
   "cell_type": "code",
   "execution_count": 14,
   "id": "b2be403e-3f2b-462c-adaa-83c787b6a06d",
   "metadata": {},
   "outputs": [
    {
     "name": "stdout",
     "output_type": "stream",
     "text": [
      "\u001b[1m32/32\u001b[0m \u001b[32m━━━━━━━━━━━━━━━━━━━━\u001b[0m\u001b[37m\u001b[0m \u001b[1m0s\u001b[0m 4ms/step\n"
     ]
    }
   ],
   "source": [
    "reconstructions = autoencoder.predict(test_data)\n",
    "reconstruction_loss = tf.keras.losses.mse(test_data, reconstructions)"
   ]
  },
  {
   "cell_type": "code",
   "execution_count": 15,
   "id": "c335b716-da6f-491c-b0e1-043d23fb1911",
   "metadata": {},
   "outputs": [
    {
     "name": "stdout",
     "output_type": "stream",
     "text": [
      "Anomaly Detection Threshold: 0.019882208202034235\n"
     ]
    }
   ],
   "source": [
    "threshold = np.mean(reconstruction_loss) + 2 * np.std(reconstruction_loss)\n",
    "print(f\"Anomaly Detection Threshold: {threshold}\")"
   ]
  },
  {
   "cell_type": "code",
   "execution_count": 16,
   "id": "42d18783-611e-4b51-9ea6-aa96a92e0098",
   "metadata": {},
   "outputs": [
    {
     "name": "stdout",
     "output_type": "stream",
     "text": [
      "Number of anomalies detected: 7\n"
     ]
    }
   ],
   "source": [
    "anomalies = reconstruction_loss > threshold\n",
    "print(f\"Number of anomalies detected: {np.sum(anomalies)}\")"
   ]
  },
  {
   "cell_type": "code",
   "execution_count": 17,
   "id": "8dfbfe0b-64a0-4f02-9baa-0c79b5ec2074",
   "metadata": {},
   "outputs": [
    {
     "data": {
      "image/png": "[encoded data removed]",
      "text/plain": [
       "<Figure size 640x480 with 1 Axes>"
      ]
     },
     "metadata": {},
     "output_type": "display_data"
    }
   ],
   "source": [
    "plt.plot(history.history['loss'], label='Training Loss')\n",
    "plt.plot(history.history['val_loss'], label='Validation Loss')\n",
    "plt.xlabel('Epochs')\n",
    "plt.ylabel('Loss')\n",
    "plt.legend()\n",
    "plt.show()"
   ]
  }
 ],
 "metadata": {
  "kernelspec": {
   "display_name": "Python 3 (ipykernel)",
   "language": "python",
   "name": "python3"
  },
  "language_info": {
   "codemirror_mode": {
    "name": "ipython",
    "version": 3
   },
   "file_extension": ".py",
   "mimetype": "text/x-python",
   "name": "python",
   "nbconvert_exporter": "python",
   "pygments_lexer": "ipython3",
   "version": "3.12.6"
  }
 },
 "nbformat": 4,
 "nbformat_minor": 5
}
